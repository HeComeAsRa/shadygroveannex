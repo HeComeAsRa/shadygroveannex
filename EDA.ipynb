{
 "cells": [
  {
   "cell_type": "code",
   "execution_count": 1,
   "id": "28c8c538-6c29-4974-9a5d-6a2454d3b5bf",
   "metadata": {},
   "outputs": [],
   "source": [
    "import os"
   ]
  },
  {
   "cell_type": "code",
   "execution_count": 6,
   "id": "cf5aa647-2553-4fe4-bbaa-dcbca1e4f754",
   "metadata": {},
   "outputs": [],
   "source": [
    "import pandas as pd"
   ]
  },
  {
   "cell_type": "code",
   "execution_count": 2,
   "id": "3aa3e729-69f0-4fd7-a2bd-fe0a1af4e67a",
   "metadata": {},
   "outputs": [],
   "source": [
    "path = os.getcwd()"
   ]
  },
  {
   "cell_type": "code",
   "execution_count": 3,
   "id": "430d0889-cb67-4a48-9979-eb085168e7c3",
   "metadata": {},
   "outputs": [
    {
     "name": "stdout",
     "output_type": "stream",
     "text": [
      "/home/jovyan\n"
     ]
    }
   ],
   "source": [
    "print(path)"
   ]
  },
  {
   "cell_type": "code",
   "execution_count": 7,
   "id": "7c9325f6-cca4-403e-869c-5830de515682",
   "metadata": {},
   "outputs": [],
   "source": [
    "sg = pd.read_csv('/home/jovyan/mtpd.csv')"
   ]
  },
  {
   "cell_type": "code",
   "execution_count": 8,
   "id": "896633f1-3b8b-426f-aeb9-2e2c66331e79",
   "metadata": {},
   "outputs": [
    {
     "data": {
      "text/html": [
       "<div>\n",
       "<style scoped>\n",
       "    .dataframe tbody tr th:only-of-type {\n",
       "        vertical-align: middle;\n",
       "    }\n",
       "\n",
       "    .dataframe tbody tr th {\n",
       "        vertical-align: top;\n",
       "    }\n",
       "\n",
       "    .dataframe thead th {\n",
       "        text-align: right;\n",
       "    }\n",
       "</style>\n",
       "<table border=\"1\" class=\"dataframe\">\n",
       "  <thead>\n",
       "    <tr style=\"text-align: right;\">\n",
       "      <th></th>\n",
       "      <th>CFS NO</th>\n",
       "      <th>CFS DATE</th>\n",
       "      <th>CFS TIME</th>\n",
       "      <th>HOUR</th>\n",
       "      <th>DAY</th>\n",
       "      <th>YEAR</th>\n",
       "      <th>LOCATION NAME</th>\n",
       "      <th>DISTRICT</th>\n",
       "      <th>SECTOR</th>\n",
       "      <th>CAD CALL SOURCE</th>\n",
       "      <th>BEAT NAME</th>\n",
       "      <th>INCIDENT TYPE</th>\n",
       "      <th>ADDRESS</th>\n",
       "      <th>CSZ</th>\n",
       "      <th>DISPOSITION</th>\n",
       "    </tr>\n",
       "  </thead>\n",
       "  <tbody>\n",
       "    <tr>\n",
       "      <th>0</th>\n",
       "      <td>19-00009841</td>\n",
       "      <td>2/17/2019</td>\n",
       "      <td>9:57</td>\n",
       "      <td>9.0</td>\n",
       "      <td>Sunday</td>\n",
       "      <td>2019.0</td>\n",
       "      <td>STA SHADY GROVE</td>\n",
       "      <td>1.0</td>\n",
       "      <td>1.0</td>\n",
       "      <td>FIELD INITIATED</td>\n",
       "      <td>SDGR</td>\n",
       "      <td>SUBJSTOP</td>\n",
       "      <td>15902 Somerville Dr</td>\n",
       "      <td>ROCKVILLE</td>\n",
       "      <td>SENT ON WAY</td>\n",
       "    </tr>\n",
       "    <tr>\n",
       "      <th>1</th>\n",
       "      <td>19-00009848</td>\n",
       "      <td>2/17/2019</td>\n",
       "      <td>11:21</td>\n",
       "      <td>11.0</td>\n",
       "      <td>Sunday</td>\n",
       "      <td>2019.0</td>\n",
       "      <td>STA SHADY GROVE</td>\n",
       "      <td>1.0</td>\n",
       "      <td>1.0</td>\n",
       "      <td>FIELD INITIATED</td>\n",
       "      <td>SDGR</td>\n",
       "      <td>SUBJSTOP</td>\n",
       "      <td>15902 Somerville Dr</td>\n",
       "      <td>ROCKVILLE</td>\n",
       "      <td>SU - Summons/Citations</td>\n",
       "    </tr>\n",
       "    <tr>\n",
       "      <th>2</th>\n",
       "      <td>19-00009941</td>\n",
       "      <td>2/17/2019</td>\n",
       "      <td>19:32</td>\n",
       "      <td>19.0</td>\n",
       "      <td>Sunday</td>\n",
       "      <td>2019.0</td>\n",
       "      <td>STA SHADY GROVE</td>\n",
       "      <td>1.0</td>\n",
       "      <td>1.0</td>\n",
       "      <td>ADMIN</td>\n",
       "      <td>SDGR</td>\n",
       "      <td>FIGHT</td>\n",
       "      <td>15902 Somerville Dr</td>\n",
       "      <td>ROCKVILLE</td>\n",
       "      <td>NOTHING FOUND</td>\n",
       "    </tr>\n",
       "    <tr>\n",
       "      <th>3</th>\n",
       "      <td>19-00010178</td>\n",
       "      <td>2/18/2019</td>\n",
       "      <td>20:13</td>\n",
       "      <td>20.0</td>\n",
       "      <td>Monday</td>\n",
       "      <td>2019.0</td>\n",
       "      <td>STA SHADY GROVE</td>\n",
       "      <td>1.0</td>\n",
       "      <td>1.0</td>\n",
       "      <td>ADMIN</td>\n",
       "      <td>SDGR</td>\n",
       "      <td>BUSEMERG</td>\n",
       "      <td>15902 Somerville Dr</td>\n",
       "      <td>ROCKVILLE</td>\n",
       "      <td>NO REPORT</td>\n",
       "    </tr>\n",
       "    <tr>\n",
       "      <th>4</th>\n",
       "      <td>19-00010216</td>\n",
       "      <td>2/19/2019</td>\n",
       "      <td>1:48</td>\n",
       "      <td>1.0</td>\n",
       "      <td>Tuesday</td>\n",
       "      <td>2019.0</td>\n",
       "      <td>STA SHADY GROVE</td>\n",
       "      <td>1.0</td>\n",
       "      <td>1.0</td>\n",
       "      <td>FIELD INITIATED</td>\n",
       "      <td>SDGR</td>\n",
       "      <td>AREACHECK</td>\n",
       "      <td>15902 Somerville Dr</td>\n",
       "      <td>ROCKVILLE</td>\n",
       "      <td>NO REPORT</td>\n",
       "    </tr>\n",
       "  </tbody>\n",
       "</table>\n",
       "</div>"
      ],
      "text/plain": [
       "        CFS NO   CFS DATE CFS TIME  HOUR      DAY    YEAR    LOCATION NAME  \\\n",
       "0  19-00009841  2/17/2019     9:57   9.0   Sunday  2019.0  STA SHADY GROVE   \n",
       "1  19-00009848  2/17/2019    11:21  11.0   Sunday  2019.0  STA SHADY GROVE   \n",
       "2  19-00009941  2/17/2019    19:32  19.0   Sunday  2019.0  STA SHADY GROVE   \n",
       "3  19-00010178  2/18/2019    20:13  20.0   Monday  2019.0  STA SHADY GROVE   \n",
       "4  19-00010216  2/19/2019     1:48   1.0  Tuesday  2019.0  STA SHADY GROVE   \n",
       "\n",
       "   DISTRICT  SECTOR  CAD CALL SOURCE BEAT NAME INCIDENT TYPE  \\\n",
       "0       1.0     1.0  FIELD INITIATED      SDGR      SUBJSTOP   \n",
       "1       1.0     1.0  FIELD INITIATED      SDGR      SUBJSTOP   \n",
       "2       1.0     1.0            ADMIN      SDGR         FIGHT   \n",
       "3       1.0     1.0            ADMIN      SDGR      BUSEMERG   \n",
       "4       1.0     1.0  FIELD INITIATED      SDGR     AREACHECK   \n",
       "\n",
       "               ADDRESS        CSZ             DISPOSITION  \n",
       "0  15902 Somerville Dr  ROCKVILLE             SENT ON WAY  \n",
       "1  15902 Somerville Dr  ROCKVILLE  SU - Summons/Citations  \n",
       "2  15902 Somerville Dr  ROCKVILLE           NOTHING FOUND  \n",
       "3  15902 Somerville Dr  ROCKVILLE               NO REPORT  \n",
       "4  15902 Somerville Dr  ROCKVILLE               NO REPORT  "
      ]
     },
     "execution_count": 8,
     "metadata": {},
     "output_type": "execute_result"
    }
   ],
   "source": [
    "sg.head()"
   ]
  },
  {
   "cell_type": "code",
   "execution_count": null,
   "id": "945b23f2-f5bf-4580-939e-0ee1796086da",
   "metadata": {},
   "outputs": [],
   "source": []
  }
 ],
 "metadata": {
  "kernelspec": {
   "display_name": "Python 3 (ipykernel)",
   "language": "python",
   "name": "python3"
  },
  "language_info": {
   "codemirror_mode": {
    "name": "ipython",
    "version": 3
   },
   "file_extension": ".py",
   "mimetype": "text/x-python",
   "name": "python",
   "nbconvert_exporter": "python",
   "pygments_lexer": "ipython3",
   "version": "3.7.12"
  }
 },
 "nbformat": 4,
 "nbformat_minor": 5
}
